{
  "metadata": {
    "language_info": {
      "codemirror_mode": {
        "name": "python",
        "version": 3
      },
      "file_extension": ".py",
      "mimetype": "text/x-python",
      "name": "python",
      "nbconvert_exporter": "python",
      "pygments_lexer": "ipython3",
      "version": "3.8"
    },
    "kernelspec": {
      "name": "python",
      "display_name": "Pyolite",
      "language": "python"
    }
  },
  "nbformat_minor": 4,
  "nbformat": 4,
  "cells": [
    {
      "cell_type": "markdown",
      "source": "# Data Science Tools and Ecosystem",
      "metadata": {}
    },
    {
      "cell_type": "markdown",
      "source": "Data Science Tools and Ecosystem are presented in this Notebook.",
      "metadata": {}
    },
    {
      "cell_type": "markdown",
      "source": "**Objectives**\n* List of common libraries used in Data Science\n* List of most used languages in Data Science\n* List of some open source data Science tools\n* Show some examples of arithmetic expressions in Phyton\n",
      "metadata": {}
    },
    {
      "cell_type": "markdown",
      "source": "Some of the popular languages that Data Scientists use are:\n1. Phyton\n2. R\n3. SQL\n4. C++",
      "metadata": {}
    },
    {
      "cell_type": "markdown",
      "source": "Some of the commonly used libraries used by Data Scientists include:\n1. Pandas\n2. Keras\n3. TensorFlow\n4. Keras\n5. Apache Spark",
      "metadata": {}
    },
    {
      "cell_type": "markdown",
      "source": "| Data Science Tools | \n| ------ |\n| Jupyter | \n| Apache Spark |\n| GitHub |\n| Knime |",
      "metadata": {}
    },
    {
      "cell_type": "markdown",
      "source": "### Below are a few examples of evaluating arithmetic expressions in Python",
      "metadata": {}
    },
    {
      "cell_type": "markdown",
      "source": "This a simple arithmetic expression to mutiply then add integers",
      "metadata": {}
    },
    {
      "cell_type": "code",
      "source": "(3*4)+5",
      "metadata": {
        "trusted": true
      },
      "execution_count": 2,
      "outputs": [
        {
          "execution_count": 2,
          "output_type": "execute_result",
          "data": {
            "text/plain": "17"
          },
          "metadata": {}
        }
      ]
    },
    {
      "cell_type": "markdown",
      "source": "This will convert 200 minutes to hours by dividing by 60",
      "metadata": {}
    },
    {
      "cell_type": "code",
      "source": "minutes = 200\nprint(\"%02d:%02d\" % (divmod(minutes, 60)))",
      "metadata": {
        "trusted": true
      },
      "execution_count": 5,
      "outputs": [
        {
          "name": "stdout",
          "text": "03:20\n",
          "output_type": "stream"
        }
      ]
    },
    {
      "cell_type": "markdown",
      "source": "## Author\nJessica Orrego Hernandez",
      "metadata": {}
    }
  ]
}