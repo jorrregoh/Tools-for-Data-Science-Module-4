{
  "metadata": {
    "kernelspec": {
      "name": "python",
      "display_name": "Pyolite",
      "language": "python"
    },
    "language_info": {
      "name": ""
    },
    "toc-autonumbering": false,
    "toc-showmarkdowntxt": false
  },
  "nbformat_minor": 4,
  "nbformat": 4,
  "cells": [
    {
      "cell_type": "markdown",
      "source": "<center>\n    <img src=\"https://cf-courses-data.s3.us.cloud-object-storage.appdomain.cloud/IBMDeveloperSkillsNetwork-DS0105EN-SkillsNetwork/labs/Module2/images/SN_web_lightmode.png\" width=\"300\" alt=\"cognitiveclass.ai logo\">\n</center>\n",
      "metadata": {}
    },
    {
      "cell_type": "markdown",
      "source": "#### Add your code below following the instructions given in the course\n",
      "metadata": {}
    },
    {
      "cell_type": "markdown",
      "source": "# My Jupyter Notebook on IBM Watson Studio",
      "metadata": {}
    },
    {
      "cell_type": "markdown",
      "source": "**Jessica Orrego Hernandez**\nData Analyst",
      "metadata": {}
    },
    {
      "cell_type": "markdown",
      "source": "*I am interested in data science because is a powerful field that can help companies and academia to solve problems through the right data approach*",
      "metadata": {}
    },
    {
      "cell_type": "markdown",
      "source": "### I will do a simple 1+1 operation",
      "metadata": {}
    },
    {
      "cell_type": "code",
      "source": "1+1",
      "metadata": {
        "trusted": true
      },
      "execution_count": 4,
      "outputs": [
        {
          "execution_count": 4,
          "output_type": "execute_result",
          "data": {
            "text/plain": "2"
          },
          "metadata": {}
        }
      ]
    },
    {
      "cell_type": "markdown",
      "source": "<a href=\"https://dataplatform.cloud.ibm.com/gallery\">IBM Cloud Gallery</a> ",
      "metadata": {}
    },
    {
      "cell_type": "markdown",
      "source": "| Entry | Time (min) | distance (m) |\n| ------ | ------ | ------ |\n| 1 | 1 | 1 |\n| 2 | 3 | 2 |\n| 3 | 5 | 3 |",
      "metadata": {}
    },
    {
      "cell_type": "markdown",
      "source": "~nothing~\n<strike>nothing</strike>\n<del>nothing<del>",
      "metadata": {}
    }
  ]
}